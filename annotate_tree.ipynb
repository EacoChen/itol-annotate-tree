{
 "cells": [
  {
   "cell_type": "code",
   "execution_count": 30,
   "metadata": {},
   "outputs": [],
   "source": [
    "def get_color(acc2info):\n",
    "    phyla2color = {p:c for p,c in zip(sorted(set(acc2info.values())),\n",
    "                                      px.colors.qualitative.T10 + px.colors.qualitative.Alphabet)}\n",
    "    phyla2color['Proteobacteria']='#3C6A54'\n",
    "    phyla2color['Alphaproteobacteria']='#FAD4A2'\n",
    "    phyla2color['Betaproteobacteria']='#56CEFF'\n",
    "    phyla2color['Gammaproteobacteria']='#98C995'\n",
    "    phyla2color['Epsilonproteobacteria']='#52B6DC'\n",
    "    phyla2color['Deltaproteobacteria']='#DAE8AA'\n",
    "    phyla2color['Oligoflexia']='#FF8028'\n",
    "    phyla2color['Candidatus Muproteobacteria'] = '#BD2B1C'\n",
    "    phyla2color['Zetaproteobacteria'] = '#63680c'\n",
    "    phyla2color['Actinobacteria']= '#E15F99'\n",
    "    phyla2color['Bacteroidetes'] = '#DA16FF'\n",
    "    phyla2color['Chloroflexi'] = '#511CFB'\n",
    "    phyla2color['Cyanobacteria'] = '#00A08B'\n",
    "    phyla2color['Euryarchaeota'] = '#FC0080'\n",
    "    phyla2color['Firmicutes'] = '#B2828D'\n",
    "    phyla2color['Gemmatimonadetes'] ='#6C7C32'\n",
    "    phyla2color['Nitrospinae'] = '#862A16'\n",
    "    phyla2color['Nitrospirae'] = '#A777F1'\n",
    "    phyla2color['Planctomycetes'] = '#620042'\n",
    "    phyla2color['Deinococcus-Thermus'] = '#B6C360'\n",
    "    phyla2color['Acidithiobacillia'] = '#336666'\n",
    "    phyla2color['Crenarchaeota']= '#BAB0AC'\n",
    "    phyla2color['Deinococcus-Thermus']= '#3283FE'\n",
    "    phyla2color['Halobacteria'] = '#3283FE'\n",
    "\n",
    "    \n",
    "    return phyla2color"
   ]
  },
  {
   "cell_type": "code",
   "execution_count": 353,
   "metadata": {},
   "outputs": [],
   "source": [
    "def to_color_range(acc2info, info2color, pos='range'):\n",
    "\n",
    "    acc2color = {acc: info2color[phyla] for acc, phyla in acc2info.items()}\n",
    "    if pos == 'range':\n",
    "        anno_text = '\\n'.join(['%s,%s,%s,%s' % (acc, pos, color, acc2info[acc])\n",
    "                              for acc,color in acc2color.items()])\n",
    "    else:\n",
    "        anno_text = '\\n'.join(['%s,%s,%s,normal,3' % (acc, pos, color)\n",
    "                              for acc,color in acc2color.items()])\n",
    "    \n",
    "    os.chdir('/share/home-user/hyc/db/')\n",
    "    template_text = open('./itol_template/colors_styles_template.txt').read()\n",
    "\n",
    "    # 形成最后输出文件\n",
    "    out_text = template_text + '\\n' + anno_text\n",
    "\n",
    "    return out_text"
   ]
  },
  {
   "cell_type": "code",
   "execution_count": 59,
   "metadata": {},
   "outputs": [],
   "source": [
    "def to_color_style(acc2info,info2color,dataset,pos,bg=False):\n",
    "    # 该部分可封装\n",
    "    # 获取访问码与颜色的对应\n",
    "    acc2color = {acc: info2color[phyla] for acc, phyla in acc2info.items()}\n",
    "\n",
    "    # data 注释主体输出\n",
    "    if not bg:\n",
    "        # data 注释主体输出\n",
    "        annote_text = '\\n'.join(['%s,%s,%s,1,normal' % (acc, pos, color)  \n",
    "                                 for acc, color in acc2color.items()])\n",
    "    else:\n",
    "        annote_text = '\\n'.join(['%s,%s,#ffffff,1,normal,%s' \n",
    "                                 % (acc, pos, color) \n",
    "                                 for acc, color in acc2color.items()])\n",
    "    \n",
    "    \n",
    "    owned_info2color = {info:info2color[info] for acc,info in acc2info.items()}\n",
    "\n",
    "    # legend 形成，以及整个dataset的名字\n",
    "    legend_text = std_legend(dataset, owned_info2color)\n",
    "    dataset_label = dataset\n",
    "\n",
    "    # 打开模板文件\n",
    "    os.chdir('/share/home-user/hyc/db/')\n",
    "    template_text = open('./itol_template/dataset_styles_template.txt').read()\n",
    "\n",
    "    # 输入到预先修改为format格式的文本文件\n",
    "    template_text = template_text.format(legend_text=legend_text,\n",
    "                                         dataset_label=dataset_label)\n",
    "\n",
    "    # 形成最后输出文件\n",
    "    out_text = template_text + '\\n' + annote_text\n",
    "\n",
    "    return out_text"
   ]
  },
  {
   "cell_type": "code",
   "execution_count": 257,
   "metadata": {},
   "outputs": [],
   "source": [
    "def to_external_label(acc2info,dataset='label info'):\n",
    "    os.chdir('/share/home-user/hyc/db/')\n",
    "    template_text = open('./itol_template/dataset_text_template.txt').read()\n",
    "    template_text = template_text.format(dataset_label = dataset)\n",
    "    \n",
    "    annotate_text = '\\n'.join(['%s,%s,1,#000000,normal,1' %(k,v) \n",
    "                               for k,v in acc2info.items()])\n",
    "    \n",
    "    return template_text + '\\n' + annotate_text"
   ]
  },
  {
   "cell_type": "code",
   "execution_count": 255,
   "metadata": {},
   "outputs": [],
   "source": [
    "def label_text(acc2info):\n",
    "    os.chdir('/share/home-user/hyc/db/')\n",
    "    template_text = open('./itol_template/labels_template.txt').read()\n",
    "    \n",
    "    annotate_text = '\\n'.join(['%s,%s' %(k,v) \n",
    "                               for k,v in acc2info.items()])\n",
    "    \n",
    "    return template_text + '\\n' + annotate_text"
   ]
  },
  {
   "cell_type": "code",
   "execution_count": 81,
   "metadata": {},
   "outputs": [],
   "source": [
    "def to_popup(acc2info):\n",
    "    os.chdir('/share/home-user/hyc/db/')\n",
    "    template_text = open('./itol_template/popup_info_template.txt').read()\n",
    "    \n",
    "    annotate_text = '\\n'.join(['%s,accession,%s' %(k,k) \n",
    "                               for k,v in acc2info.items()])\n",
    "    \n",
    "    return template_text + '\\n' + annotate_text"
   ]
  },
  {
   "cell_type": "markdown",
   "metadata": {},
   "source": [
    "# above are annotate part\n",
    "# below are reference annotate"
   ]
  },
  {
   "cell_type": "code",
   "execution_count": 2,
   "metadata": {},
   "outputs": [],
   "source": [
    "from mytool.customise_annote_file import *\n",
    "import os \n",
    "import pandas as pd\n",
    "from ete3 import Tree\n",
    "import re\n",
    "\n",
    "from Bio import SeqIO"
   ]
  },
  {
   "cell_type": "code",
   "execution_count": 371,
   "metadata": {},
   "outputs": [],
   "source": [
    "# annotate ref tree\n",
    "# os.chdir('/share/home-user/hyc/work/5_tree/iqtree/ref_nr97/')\n",
    "os.chdir('/share/home-user/hyc/work/5_tree/fasttree/ref_tree/')\n",
    "gene = 'nirS'\n",
    "# filepath = '%s/%s.contree' %(gene,gene)\n",
    "filepath = '%s_ref' % gene\n",
    "\n",
    "t = Tree(filepath, format=1)\n",
    "\n",
    "tree_acc = t.get_leaf_names()\n",
    "\n",
    "df = pd.read_excel('../../total_ref_outgroup_modified.xlsx',\n",
    "                   usecols=['accession','phylum','len','tax'])\n",
    "acc2phylum = dict(zip(df['accession'],df['phylum']))\n",
    "phyla2color = get_color(acc2phylum)\n",
    "\n",
    "df = df[df['accession'].isin(tree_acc)]\n",
    "\n",
    "df = find_proteoclass(df)\n",
    "\n",
    "acc2phylum = dict(zip(df['accession'],df['phylum']))\n",
    "acc2phyclas = dict(zip(df['accession'],df['phy/class']))"
   ]
  },
  {
   "cell_type": "code",
   "execution_count": 60,
   "metadata": {},
   "outputs": [],
   "source": [
    "os.chdir('/share/home-user/hyc/work/5_tree/')\n",
    "gene = 'nirS'\n",
    "ref_og_ids = [_.id for _ in SeqIO.parse('/share/home-user/hyc/work/3_cdhit/ref/%s_ref.nr97.fa'%gene,'fasta')]\n",
    "# ref_ids = [_.id for _ in SeqIO.parse('/share/home-user/hyc/work/0_seq/ref/norB_ref.fasta','fasta')]\n",
    "# og_ids = [_.id for _ in SeqIO.parse('/share/home-user/hyc/work/0_seq/outgroup/norB_outgroup.fasta','fasta')]\n",
    "# ref_ids = [_.replace('[','_').replace(']','_') for _ in ref_ids]\n",
    "# og_ids = [_.replace('[','_').replace(']','_') for _ in og_ids]\n",
    "\n",
    "df = pd.read_excel('total_ref_outgroup.xlsx',\n",
    "                   usecols=['accession','phylum','len','tax','gene','type'])\n",
    "\n",
    "df = df[df['accession'].isin(ref_og_ids)]\n",
    "df = find_proteoclass(df)\n",
    "\n",
    "acc2phylum = dict(zip(df['accession'],df['phylum']))\n",
    "acc2phyclas = dict(zip(df['accession'],df['phy/class']))"
   ]
  },
  {
   "cell_type": "code",
   "execution_count": 68,
   "metadata": {},
   "outputs": [],
   "source": [
    "acc2phylum2 = {key.replace('[','_').replace(']','_'):acc2phylum[key] for key in acc2phylum.keys()}\n",
    "acc2phyclas2 = {key.replace('[','_').replace(']','_'):acc2phyclas[key] for key in acc2phyclas.keys()}"
   ]
  },
  {
   "cell_type": "code",
   "execution_count": 61,
   "metadata": {},
   "outputs": [],
   "source": [
    "out_text_phylum = to_color_strip(acc2phylum,phyla2color,'phylum')\n",
    "\n",
    "acc2proteocla = {k:v for k,v in acc2phyclas.items() \n",
    "                 if v not in acc2phylum.values()}\n",
    "\n",
    "out_text_proteoclass = to_color_strip(acc2proteocla,\n",
    "                                      phyla2color,\n",
    "                                      'Proteobacteria class')\n",
    "\n",
    "os.chdir('/share/home-user/hyc/work/5_tree/annotate')\n",
    "with open('./colorstrip/%s_ref_colorstrip_phylum.txt' \n",
    "          %(gene),'w') as f:\n",
    "    f.write(out_text_phylum)\n",
    "\n",
    "with open('./colorstrip/%s_ref_colorstrip_protepclass.txt' \n",
    "          %(gene), 'w') as f:\n",
    "    f.write(out_text_proteoclass)"
   ]
  },
  {
   "cell_type": "code",
   "execution_count": 62,
   "metadata": {},
   "outputs": [],
   "source": [
    "out_text_styles=to_color_style(acc2phyclas,phyla2color,'branch color','label,node',bg=True)\n",
    "\n",
    "os.chdir('/share/home-user/hyc/work/5_tree/annotate')\n",
    "with open('./colorstyle/%s_ref_colorstyle_phyclas.txt' \n",
    "          %(gene), 'w') as f:\n",
    "    f.write(out_text_styles)"
   ]
  },
  {
   "cell_type": "code",
   "execution_count": 63,
   "metadata": {},
   "outputs": [],
   "source": [
    "acc2len = dict(zip(df['accession'],df['len']))\n",
    "# acc2len2 = {key.replace('[','_').replace(']','_'):acc2len[key] for key in acc2len.keys()}\n",
    "out_text_bar = simplebar(acc2len,'%s reference sequence length' % gene)\n",
    "\n",
    "os.chdir('/share/home-user/hyc/work/5_tree/annotate')\n",
    "with open('./len/%s_ref_bar.txt' \n",
    "          %(gene), 'w') as f:\n",
    "    f.write(out_text_bar)"
   ]
  },
  {
   "cell_type": "code",
   "execution_count": 64,
   "metadata": {},
   "outputs": [],
   "source": [
    "# acc2gene = dict(zip(df['fa_name'],df['gene']))\n",
    "# acc2gene2 = {key.replace('[','_').replace(']','_'):acc2gene[key] for key in acc2gene.keys()}\n",
    "# gene2color = get_color(acc2gene2)\n",
    "acc2type = dict(zip(df['accession'],df['type']))\n",
    "type2color = {'ref':'#6BFF2C'}\n",
    "# acc2type2 =  {key.replace('[','_').replace(']','_'):acc2type[key] for key in acc2type.keys()}\n",
    "\n",
    "out_text_range = to_color_range(acc2type,type2color)\n",
    "# out_text_range = to_color_range(acc2gene2,gene2color)\n",
    "os.chdir('/share/home-user/hyc/work/5_tree/annotate')\n",
    "with open('./colorrange/%s_ref_type_range.txt' %gene,'w') as f:\n",
    "    f.write(out_text_range)"
   ]
  },
  {
   "cell_type": "code",
   "execution_count": 104,
   "metadata": {},
   "outputs": [],
   "source": [
    "os.chdir('/share/home-user/hyc/work/5_tree/')\n",
    "gene = 'nirK'\n",
    "ref_ids = [_.id for _ in SeqIO.parse('/share/home-user/hyc/work/0_seq/ref/%s_ref.fasta'%gene,'fasta')]\n",
    "og_ids = [_.id for _ in SeqIO.parse('/share/home-user/hyc/work/0_seq/outgroup/%s_outgroup.fasta'%gene,'fasta')]\n",
    "\n",
    "# df = pd.read_excel('total_ref_outgroup.xlsx',\n",
    "#                    usecols=['accession','type'])\n",
    "# df = df[df['accession'].isin(ref_ids)]\n",
    "\n",
    "acc2type = dict(zip(og_ids,['outgroup']*len(og_ids)))\n",
    "type2color = {'outgroup':'#9400d3'}\n",
    "# acc2type = dict(zip(df['accession'],df['type']))\n",
    "# type2color = {'ref':'#6BFF2C','nirK outgroup':'#6BFF2C'}\n",
    "out_text_range = to_color_range(acc2type,type2color)\n",
    "os.chdir('/share/home-user/hyc/work/5_tree/annotate')\n",
    "with open('./colorrange/%s_og_type_range.txt' %gene,'w') as f:\n",
    "    f.write(out_text_range)"
   ]
  },
  {
   "cell_type": "code",
   "execution_count": 376,
   "metadata": {},
   "outputs": [],
   "source": [
    "# to cluster size\n",
    "os.chdir('/share/home-user/hyc/work/3_cdhit/ref/')\n",
    "\n",
    "text = ''\n",
    "acc2clstr=dict()\n",
    "\n",
    "for line in open(gene+'_criteria.nr97.fasta.clstr'):\n",
    "    if re.match('^>Cluster',line):\n",
    "        if text:\n",
    "            clstr = text.split('\\n')[:-1]\n",
    "            for _ in clstr:\n",
    "                if '*' in _:\n",
    "                    accid = _.split('>')[-1].split('...')[0]\n",
    "                    clstr_no = len(clstr)\n",
    "                    acc2clstr[accid]=clstr_no\n",
    "                    break\n",
    "            text = ''\n",
    "    else:\n",
    "        text += line\n",
    "\n",
    "out_text_bar = simplebar(acc2clstr,'%s gene clstr' % gene)\n",
    "\n",
    "os.chdir('/share/home-user/hyc/work/5_tree/annotate')\n",
    "with open('./len/%s_ref_clstr.txt' \n",
    "          %(gene), 'w') as f:\n",
    "    f.write(out_text_bar)"
   ]
  },
  {
   "cell_type": "code",
   "execution_count": null,
   "metadata": {},
   "outputs": [],
   "source": []
  },
  {
   "cell_type": "markdown",
   "metadata": {},
   "source": [
    "#########################################\n",
    "#            annote gene tree           #\n",
    "#########################################"
   ]
  },
  {
   "cell_type": "code",
   "execution_count": 17,
   "metadata": {},
   "outputs": [],
   "source": [
    "# read main table, and do not change it\n",
    "genome_meta = pd.read_csv('/share/home-user/hyc/db/my_Wol_2019/genome_10575_metadata.tsv',\n",
    "                          sep = '\\t',\n",
    "                          header =0, usecols=['#genome','superkingdom','phylum','class'])\n",
    "\n",
    "genome_dict = pd.read_csv('/share/home-user/hyc/db/my_Wol_2019/genome.dict',\n",
    "                          sep = '\\t',\n",
    "                          header =0)"
   ]
  },
  {
   "cell_type": "code",
   "execution_count": 52,
   "metadata": {},
   "outputs": [
    {
     "data": {
      "text/plain": [
       "752"
      ]
     },
     "execution_count": 52,
     "metadata": {},
     "output_type": "execute_result"
    }
   ],
   "source": [
    "# annotate gene tree\n",
    "os.chdir('/share/home-user/hyc/work/5_tree/iqtree/ref_10575/')\n",
    "gene = 'nosZ'\n",
    "filepath = '%s/%s.contree' %(gene,gene)\n",
    "t = Tree(filepath, format=1)\n",
    "\n",
    "tree_acc = t.get_leaf_names()\n",
    "len(tree_acc)"
   ]
  },
  {
   "cell_type": "code",
   "execution_count": 35,
   "metadata": {},
   "outputs": [],
   "source": [
    "gene = 'nosZ'"
   ]
  },
  {
   "cell_type": "code",
   "execution_count": 53,
   "metadata": {},
   "outputs": [
    {
     "data": {
      "text/plain": [
       "617"
      ]
     },
     "execution_count": 53,
     "metadata": {},
     "output_type": "execute_result"
    }
   ],
   "source": [
    "ref_og_ids = [_.id for _ in SeqIO.parse('/share/home-user/hyc/work/3_cdhit/ref/%s_ref.nr97.fa'%gene,'fasta')]\n",
    "# ref_og_ids += [_.id for _ in SeqIO.parse('/share/home-user/hyc/work/0_seq/outgroup/norB_outgroup.fasta','fasta')]\n",
    "\n",
    "# ref_og_ids = [_.replace('[','_').replace(']','_') for _ in ref_og_ids]\n",
    "tree_acc = list(set(tree_acc) ^ set(ref_og_ids))\n",
    "len(tree_acc)"
   ]
  },
  {
   "cell_type": "code",
   "execution_count": 37,
   "metadata": {},
   "outputs": [],
   "source": [
    "df = pd.DataFrame(columns=['accession','phylum','class'])\n",
    "\n",
    "df['accession'] = tree_acc"
   ]
  },
  {
   "cell_type": "code",
   "execution_count": 38,
   "metadata": {},
   "outputs": [],
   "source": [
    "# change NC_9999.1_1111 to NC_9999.1 (NC_9999.1_1111:NC_9999.1)\n",
    "tree_acc_t = {_:re.match(r'(\\w+\\.\\d+)_\\d+',_).group(1) for _ in tree_acc}\n",
    "\n",
    "# get small table (G99999 NC_9999.1)\n",
    "t_genome_dict = genome_dict[genome_dict['Accession'].isin(tree_acc_t.values())]\n",
    "# change to dict for visit (NC_9999.1:G99999)\n",
    "t_genome_dict = t_genome_dict.set_index('Accession').to_dict()['Genome']\n",
    "\n",
    "# change to (NC_9999.1_1111:G99999)\n",
    "tree_acc_t = {k:t_genome_dict[v] for k,v in tree_acc_t.items()}"
   ]
  },
  {
   "cell_type": "code",
   "execution_count": 46,
   "metadata": {},
   "outputs": [],
   "source": [
    "# get small table (G99999 phylum class)\n",
    "t_genome_meta = genome_meta[genome_meta['#genome'].isin(tree_acc_t.values())]\n",
    "\n",
    "# phylum = [ t_genome_meta.loc[t_genome_meta['#genome']==v,'phylum'].values[0]\n",
    "#           for k,v in tree_acc_t.items() ]\n",
    "\n",
    "# tax_class = [ t_genome_meta.loc[t_genome_meta['#genome']==v,'class'].values[0] \n",
    "#              for k,v in tree_acc_t.items()]\n",
    "phylum = []\n",
    "tax_class = []\n",
    "for k,v in tree_acc_t.items():\n",
    "    phy = t_genome_meta.loc[t_genome_meta['#genome']==v,'phylum'].values[0]\n",
    "    if str(phy) != 'nan':\n",
    "        if phy.startswith('Candidatus'):\n",
    "            tax_class.append('Candidatus')\n",
    "            phylum.append('Candidatus')\n",
    "        elif phy == \"Proteobacteria\":\n",
    "            phylum.append(phy)\n",
    "            tax_class.append(t_genome_meta.loc[t_genome_meta['#genome']==v,'class'].values[0])\n",
    "        elif phy.endswith('archaeota'):\n",
    "            phylum.append(phy)\n",
    "            arch_clas = t_genome_meta.loc[t_genome_meta['#genome']==v,'class'].values[0]\n",
    "            if str(arch_clas) != 'nan':\n",
    "                tax_class.append(arch_clas)\n",
    "            else:\n",
    "                tax_class.append(phy)\n",
    "        else:\n",
    "            phylum.append(phy)\n",
    "            tax_class.append(phy)\n",
    "    else:\n",
    "        kin = t_genome_meta.loc[t_genome_meta['#genome']==v,'superkingdom'].values[0]\n",
    "        phylum.append(kin)\n",
    "        tax_class.append(kin)\n",
    "# list(set(tax_class).difference(set(phylum)))\n",
    "df['phylum']=phylum\n",
    "df['class']=tax_class\n",
    "\n",
    "acc2phylum = dict(zip(df['accession'],df['phylum']))\n",
    "acc2phyclas = dict(zip(df['accession'],df['class']))"
   ]
  },
  {
   "cell_type": "code",
   "execution_count": 48,
   "metadata": {},
   "outputs": [],
   "source": [
    "phyla2color = get_color(acc2phylum)"
   ]
  },
  {
   "cell_type": "code",
   "execution_count": 49,
   "metadata": {},
   "outputs": [],
   "source": [
    "phyclas2color = get_color(acc2phyclas)"
   ]
  },
  {
   "cell_type": "code",
   "execution_count": 50,
   "metadata": {
    "collapsed": true,
    "jupyter": {
     "outputs_hidden": true
    }
   },
   "outputs": [
    {
     "data": {
      "text/plain": [
       "{'Acidobacteria': '#4C78A8',\n",
       " 'Actinobacteria': '#E15F99',\n",
       " 'Alphaproteobacteria': '#FAD4A2',\n",
       " 'Archaea': '#72B7B2',\n",
       " 'Bacteria': '#54A24B',\n",
       " 'Bacteroidetes': '#DA16FF',\n",
       " 'Balneolaeota': '#B279A2',\n",
       " 'Betaproteobacteria': '#56CEFF',\n",
       " 'Candidatus': '#9D755D',\n",
       " 'Candidatus Muproteobacteria': '#BD2B1C',\n",
       " 'Chlamydiae': '#AA0DFE',\n",
       " 'Chlorobi': '#3283FE',\n",
       " 'Chloroflexi': '#511CFB',\n",
       " 'Cyanobacteria': '#00A08B',\n",
       " 'Deinococcus-Thermus': '#3283FE',\n",
       " 'Deltaproteobacteria': '#DAE8AA',\n",
       " 'Euryarchaeota': '#FC0080',\n",
       " 'Firmicutes': '#B2828D',\n",
       " 'Gammaproteobacteria': '#98C995',\n",
       " 'Gemmatimonadetes': '#6C7C32',\n",
       " 'Halobacteria': '#3283FE',\n",
       " 'Ignavibacteriae': '#DEA0FD',\n",
       " 'Nitrososphaeria': '#FE00FA',\n",
       " 'Nitrospinae': '#862A16',\n",
       " 'Nitrospirae': '#A777F1',\n",
       " 'Oligoflexia': '#FF8028',\n",
       " 'Planctomycetes': '#620042',\n",
       " 'Spirochaetes': '#F6222E',\n",
       " 'Thaumarchaeota': '#1CFFCE',\n",
       " 'Verrucomicrobia': '#2ED9FF',\n",
       " 'Zetaproteobacteria': '#63680c',\n",
       " 'candidate division Zixibacteria': '#C075A6',\n",
       " 'Proteobacteria': '#3C6A54',\n",
       " 'Epsilonproteobacteria': '#52B6DC',\n",
       " 'Acidithiobacillia': '#336666',\n",
       " 'Crenarchaeota': '#BAB0AC'}"
      ]
     },
     "execution_count": 50,
     "metadata": {},
     "output_type": "execute_result"
    }
   ],
   "source": [
    "phyclas2color"
   ]
  },
  {
   "cell_type": "code",
   "execution_count": 51,
   "metadata": {
    "collapsed": true,
    "jupyter": {
     "outputs_hidden": true
    }
   },
   "outputs": [
    {
     "data": {
      "text/plain": [
       "['Zetaproteobacteria',\n",
       " 'Gemmatimonadetes',\n",
       " 'Crenarchaeota',\n",
       " 'Actinobacteria',\n",
       " 'Cyanobacteria',\n",
       " 'Nitrospinae',\n",
       " 'Oligoflexia',\n",
       " 'Firmicutes',\n",
       " 'Proteobacteria',\n",
       " 'Acidithiobacillia']"
      ]
     },
     "execution_count": 51,
     "metadata": {},
     "output_type": "execute_result"
    }
   ],
   "source": [
    "list( set(tax_class) ^ set(phyla2color.keys()) )"
   ]
  },
  {
   "cell_type": "code",
   "execution_count": 25,
   "metadata": {},
   "outputs": [],
   "source": [
    "gene='nirS'"
   ]
  },
  {
   "cell_type": "code",
   "execution_count": 51,
   "metadata": {},
   "outputs": [],
   "source": [
    "# to color strip\n",
    "\n",
    "out_text_phylum = to_color_strip(acc2phylum,phyla2color,'phylum')\n",
    "\n",
    "acc2proteocla = {k:v for k,v in acc2phyclas.items() \n",
    "                 if v not in acc2phylum.values()}\n",
    "\n",
    "out_text_proteoclass = to_color_strip(acc2proteocla,\n",
    "                                      phyclas2color,\n",
    "                                      'Proteobacteria Archaeota class')\n",
    "\n",
    "os.chdir('/share/home-user/hyc/work/5_tree/annotate')\n",
    "with open('./colorstrip/%s_archaea_gene_colorstrip_phylum.txt' \n",
    "          %(gene),'w') as f:\n",
    "    f.write(out_text_phylum)\n",
    "\n",
    "with open('./colorstrip/%s_archaea_gene_colorstrip_protepclass.txt' \n",
    "          %(gene), 'w') as f:\n",
    "    f.write(out_text_proteoclass)"
   ]
  },
  {
   "cell_type": "code",
   "execution_count": 54,
   "metadata": {},
   "outputs": [],
   "source": [
    "# to sequence length\n",
    "acc2len = {record.id:len(record.seq) for record in SeqIO.parse('/share/home-user/hyc/work/3_cdhit/ref_10575/cat_ref/'+gene+'_gene_ref.nr97.fasta','fasta') \n",
    "           if record.id in tree_acc}\n",
    "\n",
    "out_text_bar = simplebar(acc2len,'%s gene sequence length' % gene)\n",
    "\n",
    "os.chdir('/share/home-user/hyc/work/5_tree/annotate')\n",
    "with open('./len/%s_gene_len.txt' \n",
    "          %(gene), 'w') as f:\n",
    "    f.write(out_text_bar)"
   ]
  },
  {
   "cell_type": "code",
   "execution_count": 55,
   "metadata": {},
   "outputs": [],
   "source": [
    "# to cluster size\n",
    "os.chdir('/share/home-user/hyc/work/3_cdhit/ref_10575/')\n",
    "text = ''\n",
    "acc2clstr=dict()\n",
    "\n",
    "for line in open(gene+'_criteria.nr97.fasta.clstr'):\n",
    "    if re.match('^>Cluster',line):\n",
    "        if text:\n",
    "            clstr = text.split('\\n')[:-1]\n",
    "            for _ in clstr:\n",
    "                if '*' in _:\n",
    "                    accid = _.split('>')[-1].split('...')[0]\n",
    "                    clstr_no = len(clstr)\n",
    "                    acc2clstr[accid]=clstr_no\n",
    "                    break\n",
    "            text = ''\n",
    "    else:\n",
    "        text += line\n",
    "\n",
    "out_text_bar = simplebar(acc2clstr,'%s gene clstr' % gene)\n",
    "\n",
    "os.chdir('/share/home-user/hyc/work/5_tree/annotate')\n",
    "with open('./len/%s_gene_clstr.txt' \n",
    "          %(gene), 'w') as f:\n",
    "    f.write(out_text_bar)"
   ]
  },
  {
   "cell_type": "code",
   "execution_count": 56,
   "metadata": {},
   "outputs": [],
   "source": [
    "# to color style\n",
    "out_text_styles=to_color_style(acc2phyclas,phyla2color,'branch color','label,node',bg=True)\n",
    "\n",
    "os.chdir('/share/home-user/hyc/work/5_tree/annotate')\n",
    "with open('./colorstyle/%s_gene_colorstyle_phyclas.txt' \n",
    "          %(gene), 'w') as f:\n",
    "    f.write(out_text_styles)"
   ]
  },
  {
   "cell_type": "code",
   "execution_count": 10,
   "metadata": {},
   "outputs": [],
   "source": [
    "# to label text\n",
    "out_text_label = label_text(acc2phylum)\n",
    "\n",
    "os.chdir('/share/home-user/hyc/work/5_tree/annotate')\n",
    "with open('./%s_gene_labeltext.txt' \n",
    "          %(gene), 'w') as f:\n",
    "    f.write(out_text_label)"
   ]
  },
  {
   "cell_type": "code",
   "execution_count": 11,
   "metadata": {},
   "outputs": [],
   "source": [
    "# to pop label\n",
    "out_popup = to_popup(acc2phylum)\n",
    "\n",
    "os.chdir('/share/home-user/hyc/work/5_tree/annotate')\n",
    "with open('./%s_gene_popup_acc.txt' \n",
    "          %(gene), 'w') as f:\n",
    "    f.write(out_popup)"
   ]
  },
  {
   "cell_type": "code",
   "execution_count": 59,
   "metadata": {},
   "outputs": [],
   "source": [
    "# to branch color\n",
    "out_branch_color = to_color_range(acc2phylum,phyla2color,pos='branch')\n",
    "\n",
    "os.chdir('/share/home-user/hyc/work/5_tree/annotate')\n",
    "with open('./colorrange/%s_gene_branch_color.txt' \n",
    "          %(gene), 'w') as f:\n",
    "    f.write(out_branch_color)"
   ]
  },
  {
   "cell_type": "code",
   "execution_count": 73,
   "metadata": {},
   "outputs": [],
   "source": [
    "# annote gene type from diamond out with color range\n",
    "# -*- coding: UTF-8 -*-\n",
    "\n",
    "gene = 'norB_ref'\n",
    "filepath='/share/home-user/hyc/work/1_diamond/ref_10575/'+ gene +'.diamond.out'\n",
    "os.chdir('/share/home-user/hyc/work/2_blast_extract/ref_10575/')\n",
    "\n",
    "\n",
    "df = pd.read_csv(filepath, sep = '\\t',header=None)\n",
    "df.columns= ['query','subject_header','subject',\n",
    "             'identity','length','e-value','score','qlen','slen']\n",
    "\n",
    "# iden > 30\n",
    "select_ident = df.loc[df['identity']>30]\n",
    "\n",
    "# evalue < 1e-20\n",
    "select_ev = select_ident.loc[select_ident['e-value']<1e-20]\n",
    "\n",
    "# form the drop row index_list\n",
    "drop_index = [int(x) for i,x in enumerate(select_ev.index) \n",
    "              if select_ev.iat[i,4]/select_ev.iat[i,7]<0.6 \n",
    "#               or select_ev.iat[i,4]/ref_len[select_ev.iat[i,0]]<0.6 \n",
    "              or select_ev.iat[i,4]/select_ev.iat[i,8]<0.6 ]\n",
    "\n",
    "# do the drop\n",
    "select_cov = select_ev.drop(index = drop_index)\n",
    "\n",
    "os.chdir('/share/home-user/hyc/work/5_tree/')\n",
    "gene = 'norB'\n",
    "ref_ids = [_.id for _ in SeqIO.parse('/share/home-user/hyc/work/0_seq/ref/norB_ref.fasta','fasta')]\n",
    "# og_ids = [_.id for _ in SeqIO.parse('/share/home-user/hyc/work/0_seq/outgroup/norB_outgroup.fasta','fasta')]\n",
    "\n",
    "\n",
    "df = pd.read_excel('total_ref_outgroup.xlsx',\n",
    "                   usecols=['fa_name','gene'])\n",
    "\n",
    "df = df[df['fa_name'].isin(ref_ids)]\n",
    "\n",
    "query2gene = dict(zip(df['fa_name'],df['gene']))\n",
    "sub2query = list(zip(select_cov['subject_header'],select_cov['query']))\n",
    "\n",
    "sub2gene = [(_[0],query2gene[_[1]]) for _ in sub2query]\n",
    "\n",
    "uq_s2g={}\n",
    "for _ in sub2gene:\n",
    "    if _[0] in uq_s2g.keys():\n",
    "        uq_s2g[_[0]].append(_[1])\n",
    "    else:\n",
    "        uq_s2g[_[0]] = [_[1]]\n",
    "\n",
    "hit_twice = {k:v for k,v in uq_s2g.items() if len(list(set(v)))>1}\n",
    "\n",
    "acc2gene = {k:list(set(v)) for k,v in uq_s2g.items()}"
   ]
  },
  {
   "cell_type": "code",
   "execution_count": 96,
   "metadata": {},
   "outputs": [],
   "source": [
    "acc2gene = {k:'\\t'.join(list(set(v))) for k,v in uq_s2g.items()}\n",
    "gene2color['cnorB']='#82D5FF'\n",
    "gene2color['qnorB']='#F8A618'\n",
    "gene2color['cnorB\\tqnorB']='#72B7B2'\n",
    "gene2color['qnorB\\tcnorB']='#72B7B2'\n",
    "\n",
    "out_text_range = to_color_range(acc2gene,gene2color)\n",
    "os.chdir('/share/home-user/hyc/work/5_tree/annotate')\n",
    "with open('./colorrange/%s_gene_type_range.txt' %gene,'w') as f:\n",
    "    f.write(out_text_range)"
   ]
  },
  {
   "cell_type": "markdown",
   "metadata": {},
   "source": [
    "signalp -fasta ../ref_10575/cat_ref/nosZ_gene_ref.nr97.fasta  -org gram- -format short -prefix nosZ_short_gram_neg"
   ]
  },
  {
   "cell_type": "code",
   "execution_count": 54,
   "metadata": {},
   "outputs": [
    {
     "name": "stdout",
     "output_type": "stream",
     "text": [
      "Counter({'TAT(Tat/SPI)': 340, 'LIPO(Sec/SPII)': 257, 'SP(Sec/SPI)': 109, 'OTHER': 46})\n"
     ]
    }
   ],
   "source": [
    "# signal peptide annotate\n",
    "df_sg = pd.read_csv('/share/home-user/hyc/work/3_cdhit/ref_10575/cat_ref/nosZ_short_gram_neg_summary.signalp5',sep='\\t',header=1)\n",
    "\n",
    "acc2signal = dict(zip(df_sg['# ID'],df_sg['Prediction']))\n",
    "\n",
    "set(acc2signal.values())\n",
    "\n",
    "from collections import Counter\n",
    "cnt = Counter()\n",
    "for _ in acc2signal.values():\n",
    "    cnt[_] +=1\n",
    "print(cnt)\n",
    "\n",
    "# for k,v in acc2signal.items():\n",
    "#     if k in ref_og_ids:\n",
    "#         acc2signal[k] += ' ref'\n",
    "\n",
    "signal2color ={\n",
    "#     'TAT(Tat/SPI) ref':'#1B9E77',\n",
    "#     'LIPO(Sec/SPII) ref':'#D95F02',\n",
    "#     'SP(Sec/SPI) ref':'#D95F02',\n",
    "#     'OTHER ref':'#7570B3',\n",
    "    'TAT(Tat/SPI)':'#FDCDAC',\n",
    "    'LIPO(Sec/SPII)':'#E6F5C9',\n",
    "    'SP(Sec/SPI)':'#B3E2CD',\n",
    "    'OTHER':'#CBD5E8'\n",
    "}\n",
    "\n",
    "out_text_range = to_color_range(acc2signal,signal2color)\n",
    "os.chdir('/share/home-user/hyc/work/5_tree/annotate')\n",
    "with open('./colorrange/%s_signal_type_range.txt' %gene,'w') as f:\n",
    "    f.write(out_text_range)"
   ]
  },
  {
   "cell_type": "code",
   "execution_count": 72,
   "metadata": {},
   "outputs": [],
   "source": [
    "def to_binary_ref(ref_ids,\n",
    "                  sep = ',',\n",
    "                  shape = '2',\n",
    "                  field_labels = 'ref',\n",
    "                  label = 'reference'):\n",
    "    os.chdir('/share/home-user/hyc/db/itol_template')\n",
    "    template_text = open('./dataset_binary_template.txt').read()\n",
    "    template_text = template_text.format(shape=shape,\n",
    "                                         field_labels=field_labels,\n",
    "                                         dataset_label=label)\n",
    "    annotate_text = '\\n'.join(['%s%s1'%(_,sep) for _ in ref_ids])\n",
    "    \n",
    "    out_text = template_text + '\\n' + annotate_text\n",
    "    return out_text"
   ]
  },
  {
   "cell_type": "code",
   "execution_count": 74,
   "metadata": {},
   "outputs": [],
   "source": [
    "out_ref_binary = to_binary_ref(ref_og_ids)\n",
    "os.chdir('/share/home-user/hyc/work/5_tree/annotate')\n",
    "with open('./binary/%s_ref_binary.txt' %gene,'w') as f:\n",
    "    f.write(out_ref_binary)"
   ]
  },
  {
   "cell_type": "code",
   "execution_count": 67,
   "metadata": {},
   "outputs": [],
   "source": [
    "gene = 'nirS'\n",
    "filepath='/share/home-user/hyc/work/1_diamond/ref_10575/'+ gene +'.diamond.out'\n",
    "\n",
    "df = pd.read_csv(filepath, sep = '\\t',header=None)\n",
    "df.columns= ['query','subject_header','subject',\n",
    "             'identity','length','e-value','score','qlen','slen']\n",
    "\n",
    "# iden > 30\n",
    "select_ident = df.loc[df['identity']>30]\n",
    "\n",
    "# evalue < 1e-20\n",
    "select_ev = select_ident.loc[select_ident['e-value']<1e-20]\n",
    "\n",
    "# form the drop row index_list\n",
    "drop_index = [int(x) for i,x in enumerate(select_ev.index) \n",
    "              if select_ev.iat[i,4]/select_ev.iat[i,7]<0.6 \n",
    "#               or select_ev.iat[i,4]/ref_len[select_ev.iat[i,0]]<0.6 \n",
    "              or select_ev.iat[i,4]/select_ev.iat[i,8]<0.6 ]\n",
    "\n",
    "# do the drop\n",
    "select_cov = select_ev.drop(index = drop_index)\n"
   ]
  },
  {
   "cell_type": "code",
   "execution_count": 68,
   "metadata": {},
   "outputs": [],
   "source": [
    "sub2query = list(zip(select_cov['subject_header'],select_cov['query']))"
   ]
  },
  {
   "cell_type": "code",
   "execution_count": 69,
   "metadata": {},
   "outputs": [],
   "source": [
    "uq_s2q={}\n",
    "for _ in sub2query:\n",
    "    if _[0] in uq_s2q.keys():\n",
    "        uq_s2q[_[0]].append(_[1])\n",
    "    else:\n",
    "        uq_s2q[_[0]] = [_[1]]"
   ]
  },
  {
   "cell_type": "code",
   "execution_count": 74,
   "metadata": {},
   "outputs": [],
   "source": [
    "os.chdir('/share/home-user/hyc/work/5_tree/')\n",
    "gene = 'nirS'\n",
    "ref_ids = [_.id for _ in SeqIO.parse('/share/home-user/hyc/work/0_seq/ref/%s_ref.fasta'%gene,'fasta')]\n",
    "# og_ids = [_.id for _ in SeqIO.parse('/share/home-user/hyc/work/0_seq/outgroup/norB_outgroup.fasta','fasta')]\n",
    "\n",
    "df = pd.read_excel('total_ref_outgroup.xlsx')"
   ]
  },
  {
   "cell_type": "code",
   "execution_count": 78,
   "metadata": {},
   "outputs": [
    {
     "data": {
      "text/html": [
       "<div>\n",
       "<style scoped>\n",
       "    .dataframe tbody tr th:only-of-type {\n",
       "        vertical-align: middle;\n",
       "    }\n",
       "\n",
       "    .dataframe tbody tr th {\n",
       "        vertical-align: top;\n",
       "    }\n",
       "\n",
       "    .dataframe thead th {\n",
       "        text-align: right;\n",
       "    }\n",
       "</style>\n",
       "<table border=\"1\" class=\"dataframe\">\n",
       "  <thead>\n",
       "    <tr style=\"text-align: right;\">\n",
       "      <th></th>\n",
       "      <th>type</th>\n",
       "      <th>gene name</th>\n",
       "      <th>accession</th>\n",
       "      <th>GI</th>\n",
       "      <th>gene</th>\n",
       "      <th>organ</th>\n",
       "      <th>seq</th>\n",
       "      <th>tax</th>\n",
       "      <th>phylum</th>\n",
       "      <th>reference</th>\n",
       "      <th>version</th>\n",
       "      <th>taxid</th>\n",
       "      <th>len</th>\n",
       "      <th>fa_name</th>\n",
       "    </tr>\n",
       "  </thead>\n",
       "  <tbody>\n",
       "    <tr>\n",
       "      <th>142</th>\n",
       "      <td>ref</td>\n",
       "      <td>nirS</td>\n",
       "      <td>CCK76416</td>\n",
       "      <td>508730931</td>\n",
       "      <td>nirS</td>\n",
       "      <td>Oleispira antarctica RB-8</td>\n",
       "      <td>MKKLKFGLSVIGLAIGMATAGVSTAAPAKGPTLSEKVFEETSLLYF...</td>\n",
       "      <td>Bacteria_Proteobacteria_Gammaproteobacteria_Oc...</td>\n",
       "      <td>Proteobacteria</td>\n",
       "      <td>Genome sequence and functional genomic analysi...</td>\n",
       "      <td>CCK76416.1</td>\n",
       "      <td>698738</td>\n",
       "      <td>543</td>\n",
       "      <td>gi|508730931|emb|CCK76416.1|[508730931]</td>\n",
       "    </tr>\n",
       "  </tbody>\n",
       "</table>\n",
       "</div>"
      ],
      "text/plain": [
       "    type gene name accession         GI  gene                      organ  \\\n",
       "142  ref      nirS  CCK76416  508730931  nirS  Oleispira antarctica RB-8   \n",
       "\n",
       "                                                   seq  \\\n",
       "142  MKKLKFGLSVIGLAIGMATAGVSTAAPAKGPTLSEKVFEETSLLYF...   \n",
       "\n",
       "                                                   tax          phylum  \\\n",
       "142  Bacteria_Proteobacteria_Gammaproteobacteria_Oc...  Proteobacteria   \n",
       "\n",
       "                                             reference     version   taxid  \\\n",
       "142  Genome sequence and functional genomic analysi...  CCK76416.1  698738   \n",
       "\n",
       "     len                                  fa_name  \n",
       "142  543  gi|508730931|emb|CCK76416.1|[508730931]  "
      ]
     },
     "execution_count": 78,
     "metadata": {},
     "output_type": "execute_result"
    }
   ],
   "source": [
    "df[df['accession'].isin(uq_s2q['NZ_JRKO01000011.1_53'])]"
   ]
  },
  {
   "cell_type": "code",
   "execution_count": null,
   "metadata": {},
   "outputs": [],
   "source": []
  }
 ],
 "metadata": {
  "kernelspec": {
   "display_name": "Python 3",
   "language": "python",
   "name": "python3"
  },
  "language_info": {
   "codemirror_mode": {
    "name": "ipython",
    "version": 3
   },
   "file_extension": ".py",
   "mimetype": "text/x-python",
   "name": "python",
   "nbconvert_exporter": "python",
   "pygments_lexer": "ipython3",
   "version": "3.7.6"
  }
 },
 "nbformat": 4,
 "nbformat_minor": 4
}
